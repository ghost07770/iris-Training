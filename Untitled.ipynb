{
 "cells": [
  {
   "cell_type": "code",
   "execution_count": 6,
   "metadata": {},
   "outputs": [
    {
     "name": "stdout",
     "output_type": "stream",
     "text": [
      "Predicted value is['2']\n",
      "Real value is['2']\n"
     ]
    },
    {
     "name": "stderr",
     "output_type": "stream",
     "text": [
      "D:\\Anaconda\\lib\\site-packages\\sklearn\\linear_model\\logistic.py:432: FutureWarning: Default solver will be changed to 'lbfgs' in 0.22. Specify a solver to silence this warning.\n",
      "  FutureWarning)\n",
      "D:\\Anaconda\\lib\\site-packages\\sklearn\\utils\\validation.py:724: DataConversionWarning: A column-vector y was passed when a 1d array was expected. Please change the shape of y to (n_samples, ), for example using ravel().\n",
      "  y = column_or_1d(y, warn=True)\n",
      "D:\\Anaconda\\lib\\site-packages\\sklearn\\linear_model\\logistic.py:469: FutureWarning: Default multi_class will be changed to 'auto' in 0.22. Specify the multi_class option to silence this warning.\n",
      "  \"this warning.\", FutureWarning)\n"
     ]
    },
    {
     "data": {
      "text/plain": [
       "100.0"
      ]
     },
     "execution_count": 6,
     "metadata": {},
     "output_type": "execute_result"
    }
   ],
   "source": [
    "import numpy as np\n",
    "from numpy import genfromtxt\n",
    "from sklearn import linear_model\n",
    "\n",
    "file = genfromtxt(\"iris.csv\",delimiter=\",\",dtype=\"str\")\n",
    "\n",
    "clas ={}\n",
    "count = 0\n",
    "for val in file:\n",
    "    if val[4] not in clas:\n",
    "        clas[val[4]] = count\n",
    "        count+=1\n",
    "        \n",
    "for val in file:\n",
    "    if val[4] in clas:\n",
    "        val[4] = clas[val[4]]\n",
    "\n",
    "clas1 = 0\n",
    "clas2 = 50\n",
    "clas3 = 100\n",
    "dataSet = []\n",
    "for val in range(0,50):\n",
    "    dataSet.append(file[clas1])\n",
    "    dataSet.append(file[clas2])\n",
    "    dataSet.append(file[clas3])\n",
    "    clas1+=1\n",
    "    clas2+=1\n",
    "    clas3+=1\n",
    "\n",
    "trainingSet = file[0:130]\n",
    "testingSet = file[130:]\n",
    "\n",
    "trainingX = trainingSet[:,[1,2,3,4]]\n",
    "trainingX = trainingX.astype(float)\n",
    "trainingY = trainingSet[:,[4]]\n",
    "\n",
    "testingX = testingSet[:,[1,2,3,4]]\n",
    "testingX = testingX.astype(float)\n",
    "testingY = testingSet[:,[4]]\n",
    "\n",
    "\n",
    "lr = linear_model.LogisticRegression()\n",
    "lr.fit(trainingX,trainingY)\n",
    "\n",
    "print(\"Predicted value is\" + str(lr.predict([testingX[5]])))\n",
    "print(\"Real value is\" + str(testingY[5]))\n",
    "\n",
    "lr.score(testingX,testingY)*100\n",
    "\n"
   ]
  },
  {
   "cell_type": "code",
   "execution_count": null,
   "metadata": {},
   "outputs": [],
   "source": []
  }
 ],
 "metadata": {
  "kernelspec": {
   "display_name": "Python 3",
   "language": "python",
   "name": "python3"
  },
  "language_info": {
   "codemirror_mode": {
    "name": "ipython",
    "version": 3
   },
   "file_extension": ".py",
   "mimetype": "text/x-python",
   "name": "python",
   "nbconvert_exporter": "python",
   "pygments_lexer": "ipython3",
   "version": "3.7.3"
  }
 },
 "nbformat": 4,
 "nbformat_minor": 2
}
